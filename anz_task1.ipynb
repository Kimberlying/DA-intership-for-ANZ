{
 "cells": [
  {
   "cell_type": "markdown",
   "metadata": {},
   "source": [
    "# ANZ Virtual Internship Report- Task 1 & Task 2"
   ]
  },
  {
   "cell_type": "markdown",
   "metadata": {},
   "source": [
    "## 1.0 Introduction\n",
    "\n",
    "This is ANZ virtual internship. This internship comprised of two parts:\n",
    "\n",
    "Task 1: Exploratory Data Analysis\n",
    "\n",
    "Task 2: Predictive Analytics"
   ]
  },
  {
   "cell_type": "markdown",
   "metadata": {},
   "source": [
    "## 2.0 Summary of Business Task\n",
    "\n",
    "Task 1: Exploratory Data Analysis：\n",
    "Segment the dataset and draw unique insignts, including visualisation of the transaction volume and assessing the effect of any outliers.\n",
    "\n",
    "Task 2: Predictive Analytics：\n",
    "Explore correlations between customer attributes, build a regression and a decision-tree prediction model based on your findings."
   ]
  },
  {
   "cell_type": "markdown",
   "metadata": {},
   "source": [
    "## 3.0 Description of All Data Sources Used\n",
    "\n",
    "3.1 Source, Liscensing, Privacy：\n",
    "The dataset is provided ANZ based on a synthesised transaction dataset containing 3 months’ worth of transactions for 100 hypothetical customers. It contains purchases, recurring transactions, and salary transactions.\n",
    "\n",
    "License: N/A\n",
    "\n",
    "Source: https://www.theforage.com/virtual-internships/prototype/ZLJCsrpkHo9pZBJNY/ANZ-Virtual-Internship?inv=8jeCcsp6NDcp4juED\n",
    "\n",
    "Privacy: The dataset was generated from 100 hypothetical customers, hence no privacy issues involved.\n",
    "\n"
   ]
  },
  {
   "cell_type": "markdown",
   "metadata": {
    "pycharm": {
     "name": "#%% md\n"
    }
   },
   "source": [
    "# Task 1: Exploratory Data Analysis"
   ]
  },
  {
   "cell_type": "markdown",
   "metadata": {
    "pycharm": {
     "name": "#%% md\n"
    }
   },
   "source": [
    "## Imports and loading dataset 安装和加载数据"
   ]
  },
  {
   "cell_type": "code",
   "execution_count": 10,
   "metadata": {
    "jupyter": {
     "outputs_hidden": false
    },
    "pycharm": {
     "name": "#%%\n"
    }
   },
   "outputs": [],
   "source": [
    "#Imports and loading dataset \n",
    "#安装和加载数据\n",
    "import numpy as np\n",
    "import pandas as pd\n",
    "import matplotlib.pyplot as plt"
   ]
  },
  {
   "cell_type": "code",
   "execution_count": 11,
   "metadata": {
    "jupyter": {
     "outputs_hidden": false
    },
    "pycharm": {
     "name": "#%%\n"
    }
   },
   "outputs": [
    {
     "data": {
      "text/html": [
       "<div>\n",
       "<style scoped>\n",
       "    .dataframe tbody tr th:only-of-type {\n",
       "        vertical-align: middle;\n",
       "    }\n",
       "\n",
       "    .dataframe tbody tr th {\n",
       "        vertical-align: top;\n",
       "    }\n",
       "\n",
       "    .dataframe thead th {\n",
       "        text-align: right;\n",
       "    }\n",
       "</style>\n",
       "<table border=\"1\" class=\"dataframe\">\n",
       "  <thead>\n",
       "    <tr style=\"text-align: right;\">\n",
       "      <th></th>\n",
       "      <th>status</th>\n",
       "      <th>card_present_flag</th>\n",
       "      <th>bpay_biller_code</th>\n",
       "      <th>account</th>\n",
       "      <th>currency</th>\n",
       "      <th>long_lat</th>\n",
       "      <th>txn_description</th>\n",
       "      <th>merchant_id</th>\n",
       "      <th>merchant_code</th>\n",
       "      <th>first_name</th>\n",
       "      <th>...</th>\n",
       "      <th>age</th>\n",
       "      <th>merchant_suburb</th>\n",
       "      <th>merchant_state</th>\n",
       "      <th>extraction</th>\n",
       "      <th>amount</th>\n",
       "      <th>transaction_id</th>\n",
       "      <th>country</th>\n",
       "      <th>customer_id</th>\n",
       "      <th>merchant_long_lat</th>\n",
       "      <th>movement</th>\n",
       "    </tr>\n",
       "  </thead>\n",
       "  <tbody>\n",
       "    <tr>\n",
       "      <th>0</th>\n",
       "      <td>authorized</td>\n",
       "      <td>1.0</td>\n",
       "      <td>NaN</td>\n",
       "      <td>ACC-1598451071</td>\n",
       "      <td>AUD</td>\n",
       "      <td>153.41 -27.95</td>\n",
       "      <td>POS</td>\n",
       "      <td>81c48296-73be-44a7-befa-d053f48ce7cd</td>\n",
       "      <td>NaN</td>\n",
       "      <td>Diana</td>\n",
       "      <td>...</td>\n",
       "      <td>26</td>\n",
       "      <td>Ashmore</td>\n",
       "      <td>QLD</td>\n",
       "      <td>2018-08-01T01:01:15.000+0000</td>\n",
       "      <td>16.25</td>\n",
       "      <td>a623070bfead4541a6b0fff8a09e706c</td>\n",
       "      <td>Australia</td>\n",
       "      <td>CUS-2487424745</td>\n",
       "      <td>153.38 -27.99</td>\n",
       "      <td>debit</td>\n",
       "    </tr>\n",
       "    <tr>\n",
       "      <th>1</th>\n",
       "      <td>authorized</td>\n",
       "      <td>0.0</td>\n",
       "      <td>NaN</td>\n",
       "      <td>ACC-1598451071</td>\n",
       "      <td>AUD</td>\n",
       "      <td>153.41 -27.95</td>\n",
       "      <td>SALES-POS</td>\n",
       "      <td>830a451c-316e-4a6a-bf25-e37caedca49e</td>\n",
       "      <td>NaN</td>\n",
       "      <td>Diana</td>\n",
       "      <td>...</td>\n",
       "      <td>26</td>\n",
       "      <td>Sydney</td>\n",
       "      <td>NSW</td>\n",
       "      <td>2018-08-01T01:13:45.000+0000</td>\n",
       "      <td>14.19</td>\n",
       "      <td>13270a2a902145da9db4c951e04b51b9</td>\n",
       "      <td>Australia</td>\n",
       "      <td>CUS-2487424745</td>\n",
       "      <td>151.21 -33.87</td>\n",
       "      <td>debit</td>\n",
       "    </tr>\n",
       "    <tr>\n",
       "      <th>2</th>\n",
       "      <td>authorized</td>\n",
       "      <td>1.0</td>\n",
       "      <td>NaN</td>\n",
       "      <td>ACC-1222300524</td>\n",
       "      <td>AUD</td>\n",
       "      <td>151.23 -33.94</td>\n",
       "      <td>POS</td>\n",
       "      <td>835c231d-8cdf-4e96-859d-e9d571760cf0</td>\n",
       "      <td>NaN</td>\n",
       "      <td>Michael</td>\n",
       "      <td>...</td>\n",
       "      <td>38</td>\n",
       "      <td>Sydney</td>\n",
       "      <td>NSW</td>\n",
       "      <td>2018-08-01T01:26:15.000+0000</td>\n",
       "      <td>6.42</td>\n",
       "      <td>feb79e7ecd7048a5a36ec889d1a94270</td>\n",
       "      <td>Australia</td>\n",
       "      <td>CUS-2142601169</td>\n",
       "      <td>151.21 -33.87</td>\n",
       "      <td>debit</td>\n",
       "    </tr>\n",
       "    <tr>\n",
       "      <th>3</th>\n",
       "      <td>authorized</td>\n",
       "      <td>1.0</td>\n",
       "      <td>NaN</td>\n",
       "      <td>ACC-1037050564</td>\n",
       "      <td>AUD</td>\n",
       "      <td>153.10 -27.66</td>\n",
       "      <td>SALES-POS</td>\n",
       "      <td>48514682-c78a-4a88-b0da-2d6302e64673</td>\n",
       "      <td>NaN</td>\n",
       "      <td>Rhonda</td>\n",
       "      <td>...</td>\n",
       "      <td>40</td>\n",
       "      <td>Buderim</td>\n",
       "      <td>QLD</td>\n",
       "      <td>2018-08-01T01:38:45.000+0000</td>\n",
       "      <td>40.90</td>\n",
       "      <td>2698170da3704fd981b15e64a006079e</td>\n",
       "      <td>Australia</td>\n",
       "      <td>CUS-1614226872</td>\n",
       "      <td>153.05 -26.68</td>\n",
       "      <td>debit</td>\n",
       "    </tr>\n",
       "    <tr>\n",
       "      <th>4</th>\n",
       "      <td>authorized</td>\n",
       "      <td>1.0</td>\n",
       "      <td>NaN</td>\n",
       "      <td>ACC-1598451071</td>\n",
       "      <td>AUD</td>\n",
       "      <td>153.41 -27.95</td>\n",
       "      <td>SALES-POS</td>\n",
       "      <td>b4e02c10-0852-4273-b8fd-7b3395e32eb0</td>\n",
       "      <td>NaN</td>\n",
       "      <td>Diana</td>\n",
       "      <td>...</td>\n",
       "      <td>26</td>\n",
       "      <td>Mermaid Beach</td>\n",
       "      <td>QLD</td>\n",
       "      <td>2018-08-01T01:51:15.000+0000</td>\n",
       "      <td>3.25</td>\n",
       "      <td>329adf79878c4cf0aeb4188b4691c266</td>\n",
       "      <td>Australia</td>\n",
       "      <td>CUS-2487424745</td>\n",
       "      <td>153.44 -28.06</td>\n",
       "      <td>debit</td>\n",
       "    </tr>\n",
       "  </tbody>\n",
       "</table>\n",
       "<p>5 rows × 23 columns</p>\n",
       "</div>"
      ],
      "text/plain": [
       "       status  card_present_flag bpay_biller_code         account currency  \\\n",
       "0  authorized                1.0              NaN  ACC-1598451071      AUD   \n",
       "1  authorized                0.0              NaN  ACC-1598451071      AUD   \n",
       "2  authorized                1.0              NaN  ACC-1222300524      AUD   \n",
       "3  authorized                1.0              NaN  ACC-1037050564      AUD   \n",
       "4  authorized                1.0              NaN  ACC-1598451071      AUD   \n",
       "\n",
       "        long_lat txn_description                           merchant_id  \\\n",
       "0  153.41 -27.95             POS  81c48296-73be-44a7-befa-d053f48ce7cd   \n",
       "1  153.41 -27.95       SALES-POS  830a451c-316e-4a6a-bf25-e37caedca49e   \n",
       "2  151.23 -33.94             POS  835c231d-8cdf-4e96-859d-e9d571760cf0   \n",
       "3  153.10 -27.66       SALES-POS  48514682-c78a-4a88-b0da-2d6302e64673   \n",
       "4  153.41 -27.95       SALES-POS  b4e02c10-0852-4273-b8fd-7b3395e32eb0   \n",
       "\n",
       "   merchant_code first_name  ...  age merchant_suburb merchant_state  \\\n",
       "0            NaN      Diana  ...   26         Ashmore            QLD   \n",
       "1            NaN      Diana  ...   26          Sydney            NSW   \n",
       "2            NaN    Michael  ...   38          Sydney            NSW   \n",
       "3            NaN     Rhonda  ...   40         Buderim            QLD   \n",
       "4            NaN      Diana  ...   26   Mermaid Beach            QLD   \n",
       "\n",
       "                     extraction amount                    transaction_id  \\\n",
       "0  2018-08-01T01:01:15.000+0000  16.25  a623070bfead4541a6b0fff8a09e706c   \n",
       "1  2018-08-01T01:13:45.000+0000  14.19  13270a2a902145da9db4c951e04b51b9   \n",
       "2  2018-08-01T01:26:15.000+0000   6.42  feb79e7ecd7048a5a36ec889d1a94270   \n",
       "3  2018-08-01T01:38:45.000+0000  40.90  2698170da3704fd981b15e64a006079e   \n",
       "4  2018-08-01T01:51:15.000+0000   3.25  329adf79878c4cf0aeb4188b4691c266   \n",
       "\n",
       "     country     customer_id merchant_long_lat movement  \n",
       "0  Australia  CUS-2487424745     153.38 -27.99    debit  \n",
       "1  Australia  CUS-2487424745     151.21 -33.87    debit  \n",
       "2  Australia  CUS-2142601169     151.21 -33.87    debit  \n",
       "3  Australia  CUS-1614226872     153.05 -26.68    debit  \n",
       "4  Australia  CUS-2487424745     153.44 -28.06    debit  \n",
       "\n",
       "[5 rows x 23 columns]"
      ]
     },
     "execution_count": 11,
     "metadata": {},
     "output_type": "execute_result"
    }
   ],
   "source": [
    "df = pd.read_excel(\"/Users/qianmeng/Downloads/ANZ synthesised transaction dataset.xlsx\") #for job\n",
    "df.head()"
   ]
  },
  {
   "cell_type": "markdown",
   "metadata": {},
   "source": [
    "## Data preparation\n",
    "The dataset contains 12043 transactions for 100 customers who have one bank account each. Trasactional period\n",
    "is from 01/08/2018 - 31/10/2018 (92 days duration). The data entries are unique and have consistent formats for\n",
    "analysis. For each record/row, information is complete for majority of columns. Some columns contain missing\n",
    "data (blank or NA cells), which is likely due to the nature of transaction. (i.e. merchants are not involved for\n",
    "InterBank transfers or Salary payments) It is also noticed that there is only 91 unique dates in the dataset,\n",
    "suggesting the transaction records for one day are missing (turned out to be 2018-08-16).\n",
    "The range of each feature should also be examined which shows that there is one customer that resides outside\n",
    "Australia"
   ]
  },
  {
   "cell_type": "markdown",
   "metadata": {},
   "source": [
    "### The purpose of doing so is to\n",
    "\n",
    "Make sure that each column feature is in its correct datatype (ex. date in datetime, age in integer etc..),otherwise, then we need to tranform the wrong datatype to the correct datatype. Locate missing values Gather & understand information in the datset. -> The dataset contains 12043 transactions for 100 customers who have one bank account each. -> Transaction period is from 01/08/2018-31/10/2018 (92 days duration)\n",
    "\n",
    "-> The data entries are unique and have consistent formats for analysis.\n",
    "\n",
    "-> For each row, information is complete for majority of columns. Some columns contain missing data, which is likely due to the nature of transaction (i.e merchants are not involved for Interbank transfer or salary payments)\n",
    "\n",
    "-> It is also noticed that there is only 91 unique dates in the dataset, suggesting the transaction records for one day are missing (2018-08-16)\n",
    "\n",
    "-> The range of each feature should also be examined which shows that there is one customer that resides outside Australia."
   ]
  },
  {
   "cell_type": "code",
   "execution_count": 40,
   "metadata": {},
   "outputs": [
    {
     "name": "stdout",
     "output_type": "stream",
     "text": [
      "<class 'pandas.core.frame.DataFrame'>\n",
      "RangeIndex: 12043 entries, 0 to 12042\n",
      "Data columns (total 12 columns):\n",
      " #   Column             Non-Null Count  Dtype         \n",
      "---  ------             --------------  -----         \n",
      " 0   status             12043 non-null  object        \n",
      " 1   card_present_flag  7717 non-null   float64       \n",
      " 2   balance            12043 non-null  float64       \n",
      " 3   date               12043 non-null  datetime64[ns]\n",
      " 4   gender             12043 non-null  object        \n",
      " 5   age                12043 non-null  int64         \n",
      " 6   merchant_suburb    7717 non-null   object        \n",
      " 7   merchant_state     7717 non-null   object        \n",
      " 8   amount             12043 non-null  float64       \n",
      " 9   customer_id        12043 non-null  object        \n",
      " 10  movement           12043 non-null  object        \n",
      " 11  Months             12043 non-null  object        \n",
      "dtypes: datetime64[ns](1), float64(3), int64(1), object(7)\n",
      "memory usage: 1.1+ MB\n"
     ]
    }
   ],
   "source": [
    "df.info()"
   ]
  },
  {
   "cell_type": "code",
   "execution_count": 41,
   "metadata": {
    "jupyter": {
     "outputs_hidden": false
    },
    "pycharm": {
     "name": "#%%\n"
    }
   },
   "outputs": [
    {
     "data": {
      "text/html": [
       "<div>\n",
       "<style scoped>\n",
       "    .dataframe tbody tr th:only-of-type {\n",
       "        vertical-align: middle;\n",
       "    }\n",
       "\n",
       "    .dataframe tbody tr th {\n",
       "        vertical-align: top;\n",
       "    }\n",
       "\n",
       "    .dataframe thead th {\n",
       "        text-align: right;\n",
       "    }\n",
       "</style>\n",
       "<table border=\"1\" class=\"dataframe\">\n",
       "  <thead>\n",
       "    <tr style=\"text-align: right;\">\n",
       "      <th></th>\n",
       "      <th>card_present_flag</th>\n",
       "      <th>balance</th>\n",
       "      <th>age</th>\n",
       "      <th>amount</th>\n",
       "    </tr>\n",
       "  </thead>\n",
       "  <tbody>\n",
       "    <tr>\n",
       "      <th>count</th>\n",
       "      <td>7717.000000</td>\n",
       "      <td>12043.000000</td>\n",
       "      <td>12043.000000</td>\n",
       "      <td>12043.000000</td>\n",
       "    </tr>\n",
       "    <tr>\n",
       "      <th>mean</th>\n",
       "      <td>0.802644</td>\n",
       "      <td>14704.195553</td>\n",
       "      <td>30.582330</td>\n",
       "      <td>187.933588</td>\n",
       "    </tr>\n",
       "    <tr>\n",
       "      <th>std</th>\n",
       "      <td>0.398029</td>\n",
       "      <td>31503.722652</td>\n",
       "      <td>10.046343</td>\n",
       "      <td>592.599934</td>\n",
       "    </tr>\n",
       "    <tr>\n",
       "      <th>min</th>\n",
       "      <td>0.000000</td>\n",
       "      <td>0.240000</td>\n",
       "      <td>18.000000</td>\n",
       "      <td>0.100000</td>\n",
       "    </tr>\n",
       "    <tr>\n",
       "      <th>25%</th>\n",
       "      <td>1.000000</td>\n",
       "      <td>3158.585000</td>\n",
       "      <td>22.000000</td>\n",
       "      <td>16.000000</td>\n",
       "    </tr>\n",
       "    <tr>\n",
       "      <th>50%</th>\n",
       "      <td>1.000000</td>\n",
       "      <td>6432.010000</td>\n",
       "      <td>28.000000</td>\n",
       "      <td>29.000000</td>\n",
       "    </tr>\n",
       "    <tr>\n",
       "      <th>75%</th>\n",
       "      <td>1.000000</td>\n",
       "      <td>12465.945000</td>\n",
       "      <td>38.000000</td>\n",
       "      <td>53.655000</td>\n",
       "    </tr>\n",
       "    <tr>\n",
       "      <th>max</th>\n",
       "      <td>1.000000</td>\n",
       "      <td>267128.520000</td>\n",
       "      <td>78.000000</td>\n",
       "      <td>8835.980000</td>\n",
       "    </tr>\n",
       "  </tbody>\n",
       "</table>\n",
       "</div>"
      ],
      "text/plain": [
       "       card_present_flag        balance           age        amount\n",
       "count        7717.000000   12043.000000  12043.000000  12043.000000\n",
       "mean            0.802644   14704.195553     30.582330    187.933588\n",
       "std             0.398029   31503.722652     10.046343    592.599934\n",
       "min             0.000000       0.240000     18.000000      0.100000\n",
       "25%             1.000000    3158.585000     22.000000     16.000000\n",
       "50%             1.000000    6432.010000     28.000000     29.000000\n",
       "75%             1.000000   12465.945000     38.000000     53.655000\n",
       "max             1.000000  267128.520000     78.000000   8835.980000"
      ]
     },
     "execution_count": 41,
     "metadata": {},
     "output_type": "execute_result"
    }
   ],
   "source": [
    "df.describe()"
   ]
  },
  {
   "cell_type": "code",
   "execution_count": 42,
   "metadata": {},
   "outputs": [
    {
     "data": {
      "text/plain": [
       "status                  0\n",
       "card_present_flag    4326\n",
       "balance                 0\n",
       "date                    0\n",
       "gender                  0\n",
       "age                     0\n",
       "merchant_suburb      4326\n",
       "merchant_state       4326\n",
       "amount                  0\n",
       "customer_id             0\n",
       "movement                0\n",
       "Months                  0\n",
       "dtype: int64"
      ]
     },
     "execution_count": 42,
     "metadata": {},
     "output_type": "execute_result"
    }
   ],
   "source": [
    "df.isnull().sum()"
   ]
  },
  {
   "cell_type": "markdown",
   "metadata": {},
   "source": [
    "Cleaning or Manipulation of Data"
   ]
  },
  {
   "cell_type": "code",
   "execution_count": 43,
   "metadata": {},
   "outputs": [
    {
     "data": {
      "text/html": [
       "<div>\n",
       "<style scoped>\n",
       "    .dataframe tbody tr th:only-of-type {\n",
       "        vertical-align: middle;\n",
       "    }\n",
       "\n",
       "    .dataframe tbody tr th {\n",
       "        vertical-align: top;\n",
       "    }\n",
       "\n",
       "    .dataframe thead th {\n",
       "        text-align: right;\n",
       "    }\n",
       "</style>\n",
       "<table border=\"1\" class=\"dataframe\">\n",
       "  <thead>\n",
       "    <tr style=\"text-align: right;\">\n",
       "      <th></th>\n",
       "      <th>status</th>\n",
       "      <th>card_present_flag</th>\n",
       "      <th>balance</th>\n",
       "      <th>date</th>\n",
       "      <th>gender</th>\n",
       "      <th>age</th>\n",
       "      <th>merchant_suburb</th>\n",
       "      <th>merchant_state</th>\n",
       "      <th>amount</th>\n",
       "      <th>customer_id</th>\n",
       "      <th>movement</th>\n",
       "      <th>Months</th>\n",
       "    </tr>\n",
       "  </thead>\n",
       "  <tbody>\n",
       "    <tr>\n",
       "      <th>5</th>\n",
       "      <td>posted</td>\n",
       "      <td>NaN</td>\n",
       "      <td>1705.43</td>\n",
       "      <td>2018-08-01</td>\n",
       "      <td>M</td>\n",
       "      <td>20</td>\n",
       "      <td>NaN</td>\n",
       "      <td>NaN</td>\n",
       "      <td>163.0</td>\n",
       "      <td>CUS-2688605418</td>\n",
       "      <td>debit</td>\n",
       "      <td>August</td>\n",
       "    </tr>\n",
       "    <tr>\n",
       "      <th>9</th>\n",
       "      <td>posted</td>\n",
       "      <td>NaN</td>\n",
       "      <td>466.58</td>\n",
       "      <td>2018-08-01</td>\n",
       "      <td>M</td>\n",
       "      <td>40</td>\n",
       "      <td>NaN</td>\n",
       "      <td>NaN</td>\n",
       "      <td>21.0</td>\n",
       "      <td>CUS-2031327464</td>\n",
       "      <td>debit</td>\n",
       "      <td>August</td>\n",
       "    </tr>\n",
       "    <tr>\n",
       "      <th>10</th>\n",
       "      <td>posted</td>\n",
       "      <td>NaN</td>\n",
       "      <td>4348.50</td>\n",
       "      <td>2018-08-01</td>\n",
       "      <td>M</td>\n",
       "      <td>19</td>\n",
       "      <td>NaN</td>\n",
       "      <td>NaN</td>\n",
       "      <td>27.0</td>\n",
       "      <td>CUS-2317998716</td>\n",
       "      <td>debit</td>\n",
       "      <td>August</td>\n",
       "    </tr>\n",
       "    <tr>\n",
       "      <th>11</th>\n",
       "      <td>posted</td>\n",
       "      <td>NaN</td>\n",
       "      <td>1203.75</td>\n",
       "      <td>2018-08-01</td>\n",
       "      <td>F</td>\n",
       "      <td>43</td>\n",
       "      <td>NaN</td>\n",
       "      <td>NaN</td>\n",
       "      <td>29.0</td>\n",
       "      <td>CUS-4123612273</td>\n",
       "      <td>debit</td>\n",
       "      <td>August</td>\n",
       "    </tr>\n",
       "    <tr>\n",
       "      <th>13</th>\n",
       "      <td>posted</td>\n",
       "      <td>NaN</td>\n",
       "      <td>4438.16</td>\n",
       "      <td>2018-08-01</td>\n",
       "      <td>M</td>\n",
       "      <td>23</td>\n",
       "      <td>NaN</td>\n",
       "      <td>NaN</td>\n",
       "      <td>25.0</td>\n",
       "      <td>CUS-1462656821</td>\n",
       "      <td>debit</td>\n",
       "      <td>August</td>\n",
       "    </tr>\n",
       "    <tr>\n",
       "      <th>...</th>\n",
       "      <td>...</td>\n",
       "      <td>...</td>\n",
       "      <td>...</td>\n",
       "      <td>...</td>\n",
       "      <td>...</td>\n",
       "      <td>...</td>\n",
       "      <td>...</td>\n",
       "      <td>...</td>\n",
       "      <td>...</td>\n",
       "      <td>...</td>\n",
       "      <td>...</td>\n",
       "      <td>...</td>\n",
       "    </tr>\n",
       "    <tr>\n",
       "      <th>12027</th>\n",
       "      <td>posted</td>\n",
       "      <td>NaN</td>\n",
       "      <td>13537.75</td>\n",
       "      <td>2018-10-31</td>\n",
       "      <td>M</td>\n",
       "      <td>27</td>\n",
       "      <td>NaN</td>\n",
       "      <td>NaN</td>\n",
       "      <td>67.0</td>\n",
       "      <td>CUS-3180318393</td>\n",
       "      <td>debit</td>\n",
       "      <td>October</td>\n",
       "    </tr>\n",
       "    <tr>\n",
       "      <th>12032</th>\n",
       "      <td>posted</td>\n",
       "      <td>NaN</td>\n",
       "      <td>20699.90</td>\n",
       "      <td>2018-10-31</td>\n",
       "      <td>F</td>\n",
       "      <td>19</td>\n",
       "      <td>NaN</td>\n",
       "      <td>NaN</td>\n",
       "      <td>33.0</td>\n",
       "      <td>CUS-883482547</td>\n",
       "      <td>debit</td>\n",
       "      <td>October</td>\n",
       "    </tr>\n",
       "    <tr>\n",
       "      <th>12035</th>\n",
       "      <td>posted</td>\n",
       "      <td>NaN</td>\n",
       "      <td>9349.51</td>\n",
       "      <td>2018-10-31</td>\n",
       "      <td>M</td>\n",
       "      <td>26</td>\n",
       "      <td>NaN</td>\n",
       "      <td>NaN</td>\n",
       "      <td>29.0</td>\n",
       "      <td>CUS-1646621553</td>\n",
       "      <td>debit</td>\n",
       "      <td>October</td>\n",
       "    </tr>\n",
       "    <tr>\n",
       "      <th>12036</th>\n",
       "      <td>posted</td>\n",
       "      <td>NaN</td>\n",
       "      <td>18127.50</td>\n",
       "      <td>2018-10-31</td>\n",
       "      <td>M</td>\n",
       "      <td>39</td>\n",
       "      <td>NaN</td>\n",
       "      <td>NaN</td>\n",
       "      <td>32.0</td>\n",
       "      <td>CUS-1790886359</td>\n",
       "      <td>debit</td>\n",
       "      <td>October</td>\n",
       "    </tr>\n",
       "    <tr>\n",
       "      <th>12037</th>\n",
       "      <td>posted</td>\n",
       "      <td>NaN</td>\n",
       "      <td>24775.66</td>\n",
       "      <td>2018-10-31</td>\n",
       "      <td>M</td>\n",
       "      <td>29</td>\n",
       "      <td>NaN</td>\n",
       "      <td>NaN</td>\n",
       "      <td>39.0</td>\n",
       "      <td>CUS-261674136</td>\n",
       "      <td>debit</td>\n",
       "      <td>October</td>\n",
       "    </tr>\n",
       "  </tbody>\n",
       "</table>\n",
       "<p>4326 rows × 12 columns</p>\n",
       "</div>"
      ],
      "text/plain": [
       "       status  card_present_flag   balance       date gender  age  \\\n",
       "5      posted                NaN   1705.43 2018-08-01      M   20   \n",
       "9      posted                NaN    466.58 2018-08-01      M   40   \n",
       "10     posted                NaN   4348.50 2018-08-01      M   19   \n",
       "11     posted                NaN   1203.75 2018-08-01      F   43   \n",
       "13     posted                NaN   4438.16 2018-08-01      M   23   \n",
       "...       ...                ...       ...        ...    ...  ...   \n",
       "12027  posted                NaN  13537.75 2018-10-31      M   27   \n",
       "12032  posted                NaN  20699.90 2018-10-31      F   19   \n",
       "12035  posted                NaN   9349.51 2018-10-31      M   26   \n",
       "12036  posted                NaN  18127.50 2018-10-31      M   39   \n",
       "12037  posted                NaN  24775.66 2018-10-31      M   29   \n",
       "\n",
       "      merchant_suburb merchant_state  amount     customer_id movement   Months  \n",
       "5                 NaN            NaN   163.0  CUS-2688605418    debit   August  \n",
       "9                 NaN            NaN    21.0  CUS-2031327464    debit   August  \n",
       "10                NaN            NaN    27.0  CUS-2317998716    debit   August  \n",
       "11                NaN            NaN    29.0  CUS-4123612273    debit   August  \n",
       "13                NaN            NaN    25.0  CUS-1462656821    debit   August  \n",
       "...               ...            ...     ...             ...      ...      ...  \n",
       "12027             NaN            NaN    67.0  CUS-3180318393    debit  October  \n",
       "12032             NaN            NaN    33.0   CUS-883482547    debit  October  \n",
       "12035             NaN            NaN    29.0  CUS-1646621553    debit  October  \n",
       "12036             NaN            NaN    32.0  CUS-1790886359    debit  October  \n",
       "12037             NaN            NaN    39.0   CUS-261674136    debit  October  \n",
       "\n",
       "[4326 rows x 12 columns]"
      ]
     },
     "execution_count": 43,
     "metadata": {},
     "output_type": "execute_result"
    }
   ],
   "source": [
    "#find rows which are all features(columns) are null \n",
    "df[df.isnull()]\n",
    "\n",
    "#target on certain column\n",
    "df[df['merchant_state'].isnull()]"
   ]
  },
  {
   "cell_type": "markdown",
   "metadata": {
    "jupyter": {
     "outputs_hidden": false
    },
    "pycharm": {
     "name": "#%%\n"
    }
   },
   "source": [
    "### Confirming 100 unique customers exist in dataset"
   ]
  },
  {
   "cell_type": "code",
   "execution_count": 13,
   "metadata": {},
   "outputs": [
    {
     "data": {
      "text/plain": [
       "100"
      ]
     },
     "execution_count": 13,
     "metadata": {},
     "output_type": "execute_result"
    }
   ],
   "source": [
    "# Confirming 100 unique customers exist in dataset\n",
    "df[\"account\"].nunique()"
   ]
  },
  {
   "cell_type": "markdown",
   "metadata": {},
   "source": [
    "### Dropping irrelevant features\n",
    "删除不相关功能"
   ]
  },
  {
   "cell_type": "code",
   "execution_count": 14,
   "metadata": {},
   "outputs": [
    {
     "data": {
      "text/html": [
       "<div>\n",
       "<style scoped>\n",
       "    .dataframe tbody tr th:only-of-type {\n",
       "        vertical-align: middle;\n",
       "    }\n",
       "\n",
       "    .dataframe tbody tr th {\n",
       "        vertical-align: top;\n",
       "    }\n",
       "\n",
       "    .dataframe thead th {\n",
       "        text-align: right;\n",
       "    }\n",
       "</style>\n",
       "<table border=\"1\" class=\"dataframe\">\n",
       "  <thead>\n",
       "    <tr style=\"text-align: right;\">\n",
       "      <th></th>\n",
       "      <th>status</th>\n",
       "      <th>card_present_flag</th>\n",
       "      <th>balance</th>\n",
       "      <th>date</th>\n",
       "      <th>gender</th>\n",
       "      <th>age</th>\n",
       "      <th>merchant_suburb</th>\n",
       "      <th>merchant_state</th>\n",
       "      <th>amount</th>\n",
       "      <th>customer_id</th>\n",
       "      <th>movement</th>\n",
       "    </tr>\n",
       "  </thead>\n",
       "  <tbody>\n",
       "    <tr>\n",
       "      <th>0</th>\n",
       "      <td>authorized</td>\n",
       "      <td>1.0</td>\n",
       "      <td>35.39</td>\n",
       "      <td>2018-08-01</td>\n",
       "      <td>F</td>\n",
       "      <td>26</td>\n",
       "      <td>Ashmore</td>\n",
       "      <td>QLD</td>\n",
       "      <td>16.25</td>\n",
       "      <td>CUS-2487424745</td>\n",
       "      <td>debit</td>\n",
       "    </tr>\n",
       "    <tr>\n",
       "      <th>1</th>\n",
       "      <td>authorized</td>\n",
       "      <td>0.0</td>\n",
       "      <td>21.20</td>\n",
       "      <td>2018-08-01</td>\n",
       "      <td>F</td>\n",
       "      <td>26</td>\n",
       "      <td>Sydney</td>\n",
       "      <td>NSW</td>\n",
       "      <td>14.19</td>\n",
       "      <td>CUS-2487424745</td>\n",
       "      <td>debit</td>\n",
       "    </tr>\n",
       "    <tr>\n",
       "      <th>2</th>\n",
       "      <td>authorized</td>\n",
       "      <td>1.0</td>\n",
       "      <td>5.71</td>\n",
       "      <td>2018-08-01</td>\n",
       "      <td>M</td>\n",
       "      <td>38</td>\n",
       "      <td>Sydney</td>\n",
       "      <td>NSW</td>\n",
       "      <td>6.42</td>\n",
       "      <td>CUS-2142601169</td>\n",
       "      <td>debit</td>\n",
       "    </tr>\n",
       "    <tr>\n",
       "      <th>3</th>\n",
       "      <td>authorized</td>\n",
       "      <td>1.0</td>\n",
       "      <td>2117.22</td>\n",
       "      <td>2018-08-01</td>\n",
       "      <td>F</td>\n",
       "      <td>40</td>\n",
       "      <td>Buderim</td>\n",
       "      <td>QLD</td>\n",
       "      <td>40.90</td>\n",
       "      <td>CUS-1614226872</td>\n",
       "      <td>debit</td>\n",
       "    </tr>\n",
       "    <tr>\n",
       "      <th>4</th>\n",
       "      <td>authorized</td>\n",
       "      <td>1.0</td>\n",
       "      <td>17.95</td>\n",
       "      <td>2018-08-01</td>\n",
       "      <td>F</td>\n",
       "      <td>26</td>\n",
       "      <td>Mermaid Beach</td>\n",
       "      <td>QLD</td>\n",
       "      <td>3.25</td>\n",
       "      <td>CUS-2487424745</td>\n",
       "      <td>debit</td>\n",
       "    </tr>\n",
       "  </tbody>\n",
       "</table>\n",
       "</div>"
      ],
      "text/plain": [
       "       status  card_present_flag  balance       date gender  age  \\\n",
       "0  authorized                1.0    35.39 2018-08-01      F   26   \n",
       "1  authorized                0.0    21.20 2018-08-01      F   26   \n",
       "2  authorized                1.0     5.71 2018-08-01      M   38   \n",
       "3  authorized                1.0  2117.22 2018-08-01      F   40   \n",
       "4  authorized                1.0    17.95 2018-08-01      F   26   \n",
       "\n",
       "  merchant_suburb merchant_state  amount     customer_id movement  \n",
       "0         Ashmore            QLD   16.25  CUS-2487424745    debit  \n",
       "1          Sydney            NSW   14.19  CUS-2487424745    debit  \n",
       "2          Sydney            NSW    6.42  CUS-2142601169    debit  \n",
       "3         Buderim            QLD   40.90  CUS-1614226872    debit  \n",
       "4   Mermaid Beach            QLD    3.25  CUS-2487424745    debit  "
      ]
     },
     "execution_count": 14,
     "metadata": {},
     "output_type": "execute_result"
    }
   ],
   "source": [
    "df = df[[\"status\",\"card_present_flag\",\"balance\",\"date\",\"gender\",\"age\",\"merchant_suburb\",\"merchant_state\",\n",
    "                   \"amount\",\"customer_id\",\"movement\"]]\n",
    "df[\"date\"] = pd.to_datetime(df[\"date\"])\n",
    "df.head()"
   ]
  },
  {
   "cell_type": "markdown",
   "metadata": {},
   "source": [
    "## Exploratory Data Analysis\n",
    "数据分析"
   ]
  },
  {
   "cell_type": "markdown",
   "metadata": {},
   "source": [
    "### Total number of transactions made on each day"
   ]
  },
  {
   "cell_type": "code",
   "execution_count": 15,
   "metadata": {},
   "outputs": [
    {
     "data": {
      "text/plain": [
       "2018-09-28    174\n",
       "2018-08-17    172\n",
       "2018-10-05    168\n",
       "2018-10-17    162\n",
       "2018-09-14    161\n",
       "             ... \n",
       "2018-08-06     99\n",
       "2018-08-20     97\n",
       "2018-10-23     96\n",
       "2018-10-08     95\n",
       "2018-10-30     89\n",
       "Name: date, Length: 91, dtype: int64"
      ]
     },
     "execution_count": 15,
     "metadata": {},
     "output_type": "execute_result"
    }
   ],
   "source": [
    "df[\"date\"].value_counts()"
   ]
  },
  {
   "cell_type": "markdown",
   "metadata": {},
   "source": [
    "### Total number of transactions made by each customer"
   ]
  },
  {
   "cell_type": "code",
   "execution_count": 16,
   "metadata": {},
   "outputs": [
    {
     "data": {
      "text/plain": [
       "CUS-2487424745    578\n",
       "CUS-2142601169    303\n",
       "CUS-3026014945    292\n",
       "CUS-3378712515    260\n",
       "CUS-1614226872    259\n",
       "                 ... \n",
       "CUS-3395687666     40\n",
       "CUS-3201519139     37\n",
       "CUS-1646183815     34\n",
       "CUS-495599312      31\n",
       "CUS-1739931018     25\n",
       "Name: customer_id, Length: 100, dtype: int64"
      ]
     },
     "execution_count": 16,
     "metadata": {},
     "output_type": "execute_result"
    }
   ],
   "source": [
    "df[\"customer_id\"].value_counts()"
   ]
  },
  {
   "cell_type": "markdown",
   "metadata": {},
   "source": [
    "### Transaction volume each day\n"
   ]
  },
  {
   "cell_type": "code",
   "execution_count": 18,
   "metadata": {},
   "outputs": [],
   "source": [
    "df_date_count = df.groupby(\"date\").count()"
   ]
  },
  {
   "cell_type": "code",
   "execution_count": 19,
   "metadata": {},
   "outputs": [],
   "source": [
    "trans_vol = df_date_count[\"customer_id\"].mean()\n",
    "n_points = len(df_date_count.index)"
   ]
  },
  {
   "cell_type": "code",
   "execution_count": 20,
   "metadata": {},
   "outputs": [
    {
     "data": {
      "image/png": "[encoded data removed]",
      "text/plain": [
       "<Figure size 432x288 with 1 Axes>"
      ]
     },
     "metadata": {
      "needs_background": "light"
     },
     "output_type": "display_data"
    }
   ],
   "source": [
    "plt.figure()\n",
    "plt.plot(df_date_count.index, df_date_count[\"customer_id\"], c=\"black\", label = \"Customer ID\")\n",
    "plt.plot(df_date_count.index, np.linspace(trans_vol,trans_vol,n_points), c=\"r\", label = \"Mean transaction volume\")\n",
    "plt.title(\"ANZ Transaction Volume vs. Date\")\n",
    "plt.xlabel(\"Date\")\n",
    "plt.ylabel(\"Number of customers\")\n",
    "plt.legend()\n",
    "plt.tight_layout()"
   ]
  },
  {
   "cell_type": "markdown",
   "metadata": {},
   "source": [
    "### Mean transaction amount each day"
   ]
  },
  {
   "cell_type": "code",
   "execution_count": 21,
   "metadata": {},
   "outputs": [],
   "source": [
    "df_date_mean = df.groupby(\"date\").mean()"
   ]
  },
  {
   "cell_type": "code",
   "execution_count": 22,
   "metadata": {},
   "outputs": [],
   "source": [
    "trans_amt = df_date_mean[\"amount\"].mean()\n",
    "n_points = len(df_date_count.index)"
   ]
  },
  {
   "cell_type": "code",
   "execution_count": 23,
   "metadata": {},
   "outputs": [
    {
     "data": {
      "image/png": "[encoded data removed]",
      "text/plain": [
       "<Figure size 432x288 with 1 Axes>"
      ]
     },
     "metadata": {
      "needs_background": "light"
     },
     "output_type": "display_data"
    }
   ],
   "source": [
    "plt.figure()\n",
    "plt.plot(df_date_count.index, df_date_mean[\"amount\"], c=\"black\", label = \"Amount\")\n",
    "plt.plot(df_date_count.index, np.linspace(trans_amt,trans_amt,n_points), c=\"r\", label = \"Overall mean transaction amount\")\n",
    "plt.title(\"ANZ Mean Transaction Amount vs. Date\")\n",
    "plt.xlabel(\"Date\")\n",
    "plt.ylabel(\"Amount ($)\")\n",
    "plt.legend()\n",
    "plt.tight_layout()"
   ]
  },
  {
   "cell_type": "code",
   "execution_count": 24,
   "metadata": {},
   "outputs": [
    {
     "data": {
      "text/plain": [
       "0    August\n",
       "1    August\n",
       "2    August\n",
       "3    August\n",
       "4    August\n",
       "Name: Months, dtype: object"
      ]
     },
     "execution_count": 24,
     "metadata": {},
     "output_type": "execute_result"
    }
   ],
   "source": [
    "months = []\n",
    "for date in df[\"date\"]:\n",
    "    if date.month == 8:\n",
    "        months.append(\"August\")\n",
    "    elif date.month == 9:\n",
    "        months.append(\"September\")\n",
    "    elif date.month == 10:\n",
    "        months.append(\"October\")\n",
    "\n",
    "df[\"Months\"] = months\n",
    "df[\"Months\"].head()"
   ]
  },
  {
   "cell_type": "markdown",
   "metadata": {},
   "source": [
    "### Mean customer balance and payment amount by age "
   ]
  },
  {
   "cell_type": "code",
   "execution_count": 25,
   "metadata": {},
   "outputs": [],
   "source": [
    "df_cus_aug = df[df[\"Months\"] == \"August\"].groupby(\"customer_id\").mean()\n",
    "df_gen_aug = df[df[\"Months\"] == \"August\"].groupby(\"gender\").mean()"
   ]
  },
  {
   "cell_type": "code",
   "execution_count": 26,
   "metadata": {},
   "outputs": [],
   "source": [
    "mean_f_bal_aug = df_gen_aug[\"balance\"].iloc[0]\n",
    "mean_m_bal_aug = df_gen_aug[\"balance\"].iloc[1]\n",
    "n_points = len(df_cus_aug[\"age\"])"
   ]
  },
  {
   "cell_type": "code",
   "execution_count": 27,
   "metadata": {},
   "outputs": [
    {
     "data": {
      "image/png": "[encoded data removed]",
      "text/plain": [
       "<Figure size 432x288 with 1 Axes>"
      ]
     },
     "metadata": {
      "needs_background": "light"
     },
     "output_type": "display_data"
    }
   ],
   "source": [
    "plt.figure()\n",
    "plt.scatter(df_cus_aug[\"age\"], df_cus_aug[\"balance\"], c=\"black\", label=\"Balance\")\n",
    "plt.plot(df_cus_aug[\"age\"], np.linspace(mean_f_bal_aug,mean_f_bal_aug,n_points), c=\"r\", label = \"Mean female balance\")\n",
    "plt.plot(df_cus_aug[\"age\"], np.linspace(mean_m_bal_aug,mean_m_bal_aug,n_points), c=\"b\", label = \"Mean male balance\")\n",
    "plt.title(\"ANZ Customer Balance vs. Age for August\")\n",
    "plt.xlabel(\"Age (years)\")\n",
    "plt.ylabel(\"Balance ($)\")\n",
    "plt.legend()\n",
    "plt.tight_layout()"
   ]
  },
  {
   "cell_type": "markdown",
   "metadata": {},
   "source": [
    "ANZ Customer Mean Payment Amount vs Age for August"
   ]
  },
  {
   "cell_type": "code",
   "execution_count": 28,
   "metadata": {},
   "outputs": [],
   "source": [
    "mean_f_amt_aug = df_gen_aug[\"amount\"].iloc[0]\n",
    "mean_m_amt_aug = df_gen_aug[\"amount\"].iloc[1]"
   ]
  },
  {
   "cell_type": "code",
   "execution_count": 29,
   "metadata": {},
   "outputs": [
    {
     "data": {
      "image/png": "[encoded data removed]",
      "text/plain": [
       "<Figure size 432x288 with 1 Axes>"
      ]
     },
     "metadata": {
      "needs_background": "light"
     },
     "output_type": "display_data"
    }
   ],
   "source": [
    "plt.scatter(df_cus_aug[\"age\"], df_cus_aug[\"amount\"], c=\"black\", label=\"Amount\")\n",
    "plt.plot(df_cus_aug[\"age\"], np.linspace(mean_f_amt_aug,mean_f_amt_aug,n_points), c=\"r\", label = \"Mean female amount\")\n",
    "plt.plot(df_cus_aug[\"age\"], np.linspace(mean_m_amt_aug,mean_m_amt_aug,n_points), c=\"b\", label = \"Mean male amount\")\n",
    "plt.title(\"ANZ Customer Mean Payment Amount vs. Age for August\")\n",
    "plt.xlabel(\"Age (years)\")\n",
    "plt.ylabel(\"Amount ($)\")\n",
    "plt.legend()\n",
    "plt.tight_layout()"
   ]
  },
  {
   "cell_type": "code",
   "execution_count": 30,
   "metadata": {},
   "outputs": [],
   "source": [
    "df_cus_sep = df[df[\"Months\"] == \"September\"].groupby(\"customer_id\").mean()\n",
    "df_gen_sep = df[df[\"Months\"] == \"September\"].groupby(\"gender\").mean()"
   ]
  },
  {
   "cell_type": "code",
   "execution_count": 31,
   "metadata": {},
   "outputs": [],
   "source": [
    "mean_f_bal_sep = df_gen_sep[\"balance\"].iloc[0]\n",
    "mean_m_bal_sep = df_gen_sep[\"balance\"].iloc[1]\n",
    "n_points = len(df_cus_sep[\"age\"])"
   ]
  },
  {
   "cell_type": "code",
   "execution_count": 32,
   "metadata": {},
   "outputs": [
    {
     "data": {
      "image/png": "[encoded data removed]",
      "text/plain": [
       "<Figure size 432x288 with 1 Axes>"
      ]
     },
     "metadata": {
      "needs_background": "light"
     },
     "output_type": "display_data"
    }
   ],
   "source": [
    "plt.figure()\n",
    "plt.scatter(df_cus_sep[\"age\"], df_cus_sep[\"balance\"], c=\"black\", label=\"Balance\")\n",
    "plt.plot(df_cus_sep[\"age\"], np.linspace(mean_f_bal_sep,mean_f_bal_sep,n_points), c=\"r\", label = \"Mean female balance\")\n",
    "plt.plot(df_cus_sep[\"age\"], np.linspace(mean_m_bal_sep,mean_m_bal_sep,n_points), c=\"b\", label = \"Mean male balance\")\n",
    "plt.title(\"ANZ Customer Balance vs. Age for September\")\n",
    "plt.xlabel(\"Age (years)\")\n",
    "plt.ylabel(\"Balance ($)\")\n",
    "plt.legend()\n",
    "plt.tight_layout()"
   ]
  },
  {
   "cell_type": "code",
   "execution_count": 33,
   "metadata": {},
   "outputs": [],
   "source": [
    "mean_f_amt_sep = df_gen_sep[\"amount\"].iloc[0]\n",
    "mean_m_amt_sep = df_gen_sep[\"amount\"].iloc[1]"
   ]
  },
  {
   "cell_type": "code",
   "execution_count": 34,
   "metadata": {},
   "outputs": [
    {
     "data": {
      "image/png": "[encoded data removed]",
      "text/plain": [
       "<Figure size 432x288 with 1 Axes>"
      ]
     },
     "metadata": {
      "needs_background": "light"
     },
     "output_type": "display_data"
    }
   ],
   "source": [
    "plt.scatter(df_cus_sep[\"age\"], df_cus_sep[\"amount\"], c=\"black\", label=\"Amount\")\n",
    "plt.plot(df_cus_sep[\"age\"], np.linspace(mean_f_amt_sep,mean_f_amt_sep,n_points), c=\"r\", label = \"Mean female amount\")\n",
    "plt.plot(df_cus_sep[\"age\"], np.linspace(mean_m_amt_sep,mean_m_amt_sep,n_points), c=\"b\", label = \"Mean male amount\")\n",
    "plt.title(\"ANZ Customer Mean Payment Amount vs. Age for September\")\n",
    "plt.xlabel(\"Age (years)\")\n",
    "plt.ylabel(\"Amount ($)\")\n",
    "plt.legend()\n",
    "plt.tight_layout()"
   ]
  },
  {
   "cell_type": "code",
   "execution_count": 35,
   "metadata": {},
   "outputs": [],
   "source": [
    "df_cus_oct = df[df[\"Months\"] == \"October\"].groupby(\"customer_id\").mean()\n",
    "df_gen_oct = df[df[\"Months\"] == \"October\"].groupby(\"gender\").mean()"
   ]
  },
  {
   "cell_type": "code",
   "execution_count": 36,
   "metadata": {},
   "outputs": [],
   "source": [
    "mean_f_bal_oct = df_gen_oct[\"balance\"].iloc[0]\n",
    "mean_m_bal_oct = df_gen_oct[\"balance\"].iloc[1]\n",
    "n_points = len(df_cus_oct[\"age\"])"
   ]
  },
  {
   "cell_type": "code",
   "execution_count": 37,
   "metadata": {},
   "outputs": [
    {
     "data": {
      "image/png": "[encoded data removed]",
      "text/plain": [
       "<Figure size 432x288 with 1 Axes>"
      ]
     },
     "metadata": {
      "needs_background": "light"
     },
     "output_type": "display_data"
    }
   ],
   "source": [
    "plt.figure()\n",
    "plt.scatter(df_cus_oct[\"age\"], df_cus_oct[\"balance\"], c=\"black\", label=\"Balance\")\n",
    "plt.plot(df_cus_oct[\"age\"], np.linspace(mean_f_bal_oct,mean_f_bal_oct,n_points), c=\"r\", label = \"Mean female balance\")\n",
    "plt.plot(df_cus_oct[\"age\"], np.linspace(mean_m_bal_oct,mean_m_bal_oct,n_points), c=\"b\", label = \"Mean male balance\")\n",
    "plt.title(\"ANZ Customer Balance vs. Age for October\")\n",
    "plt.xlabel(\"Age (years)\")\n",
    "plt.ylabel(\"Balance ($)\")\n",
    "plt.legend()\n",
    "plt.tight_layout()"
   ]
  },
  {
   "cell_type": "code",
   "execution_count": 38,
   "metadata": {},
   "outputs": [],
   "source": [
    "mean_f_amt_oct = df_gen_oct[\"amount\"].iloc[0]\n",
    "mean_m_amt_oct = df_gen_oct[\"amount\"].iloc[1]"
   ]
  },
  {
   "cell_type": "code",
   "execution_count": 39,
   "metadata": {},
   "outputs": [
    {
     "data": {
      "image/png": "[encoded data removed]",
      "text/plain": [
       "<Figure size 432x288 with 1 Axes>"
      ]
     },
     "metadata": {
      "needs_background": "light"
     },
     "output_type": "display_data"
    }
   ],
   "source": [
    "plt.scatter(df_cus_oct[\"age\"], df_cus_oct[\"amount\"], c=\"black\", label=\"Amount\")\n",
    "plt.plot(df_cus_oct[\"age\"], np.linspace(mean_f_amt_oct,mean_f_amt_oct,n_points), c=\"r\", label = \"Mean female amount\")\n",
    "plt.plot(df_cus_oct[\"age\"], np.linspace(mean_m_amt_oct,mean_m_amt_oct,n_points), c=\"b\", label = \"Mean male amount\")\n",
    "plt.title(\"ANZ Customer Mean Payment Amount vs. Age for October\")\n",
    "plt.xlabel(\"Age (years)\")\n",
    "plt.ylabel(\"Amount ($)\")\n",
    "plt.legend()\n",
    "plt.tight_layout()"
   ]
  },
  {
   "cell_type": "code",
   "execution_count": null,
   "metadata": {},
   "outputs": [],
   "source": []
  },
  {
   "cell_type": "code",
   "execution_count": null,
   "metadata": {},
   "outputs": [],
   "source": []
  },
  {
   "cell_type": "markdown",
   "metadata": {},
   "source": [
    "# Task 2: Predictive Analytics"
   ]
  },
  {
   "cell_type": "code",
   "execution_count": null,
   "metadata": {},
   "outputs": [],
   "source": []
  },
  {
   "cell_type": "code",
   "execution_count": null,
   "metadata": {},
   "outputs": [],
   "source": []
  },
  {
   "cell_type": "code",
   "execution_count": null,
   "metadata": {},
   "outputs": [],
   "source": []
  }
 ],
 "metadata": {
  "kernelspec": {
   "display_name": "Python 3 (ipykernel)",
   "language": "python",
   "name": "python3"
  },
  "language_info": {
   "codemirror_mode": {
    "name": "ipython",
    "version": 3
   },
   "file_extension": ".py",
   "mimetype": "text/x-python",
   "name": "python",
   "nbconvert_exporter": "python",
   "pygments_lexer": "ipython3",
   "version": "3.9.7"
  }
 },
 "nbformat": 4,
 "nbformat_minor": 4
}
